{
 "cells": [
  {
   "cell_type": "markdown",
   "metadata": {},
   "source": [
    "# File Converter"
   ]
  },
  {
   "cell_type": "code",
   "execution_count": 6,
   "metadata": {},
   "outputs": [],
   "source": [
    "import torchaudio as tad\n",
    "import torchaudio.transforms as t\n",
    "import soxr\n",
    "import torch"
   ]
  },
  {
   "cell_type": "code",
   "execution_count": 7,
   "metadata": {},
   "outputs": [],
   "source": [
    "def resample_audio(waveform: torch.Tensor,  orig_sample_rate: int, new_sample_rate: int = 22050):\n",
    "    return torch.from_numpy(\n",
    "        soxr.resample(\n",
    "            x=waveform.numpy(),\n",
    "            in_rate=orig_sample_rate,\n",
    "            out_rate=new_sample_rate,\n",
    "            quality=\"VHQ\"\n",
    "        )\n",
    "    )"
   ]
  },
  {
   "cell_type": "code",
   "execution_count": null,
   "metadata": {},
   "outputs": [],
   "source": [
    "def process_audio(audio_path):\n",
    "    waveform, sample_rate = tad.load(\n",
    "        uri=audio_path,\n",
    "        normalize=True,\n",
    "        channels_first=True,\n",
    "        buffer_size=512 # during development we will use -> 512, for testing in real device -> 256 – 512, final deployment -> 256–1024\n",
    "    )\n",
    "\n",
    "    resample_audio(waveform=waveform, orig_sample_rate=sample_rate)"
   ]
  },
  {
   "cell_type": "code",
   "execution_count": null,
   "metadata": {},
   "outputs": [],
   "source": []
  }
 ],
 "metadata": {
  "kernelspec": {
   "display_name": "mirage-omega1-SZr223AO-py3.11",
   "language": "python",
   "name": "python3"
  },
  "language_info": {
   "codemirror_mode": {
    "name": "ipython",
    "version": 3
   },
   "file_extension": ".py",
   "mimetype": "text/x-python",
   "name": "python",
   "nbconvert_exporter": "python",
   "pygments_lexer": "ipython3",
   "version": "3.11.9"
  }
 },
 "nbformat": 4,
 "nbformat_minor": 2
}
